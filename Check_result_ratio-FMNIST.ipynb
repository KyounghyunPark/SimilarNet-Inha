{
 "cells": [
  {
   "cell_type": "code",
   "execution_count": 1,
   "id": "167c4d44-610c-4a45-b36a-f7a13d27d447",
   "metadata": {},
   "outputs": [],
   "source": [
    "# import common library\n",
    "import numpy as np\n",
    "import tensorflow as tf\n",
    "from tensorflow import keras\n",
    "\n",
    "import matplotlib.pyplot as plt\n",
    "import time\n",
    "import sys\n",
    "\n",
    "# import custom module\n",
    "import import_ipynb\n",
    "\n",
    "from CompNet import CompNet\n",
    "from CompNetParametric import CompNetParametric\n",
    "from PairGen import PairGen"
   ]
  },
  {
   "cell_type": "code",
   "execution_count": 2,
   "id": "480bcdf0-f513-4c6e-bc35-f2e002c7fb37",
   "metadata": {},
   "outputs": [],
   "source": [
    "# load raw dataset\n",
    "datasetStr = \"FashionMNIST\"\n",
    "(X_train, y_train), (X_test, y_test) = tf.keras.datasets.fashion_mnist.load_data()\n",
    "\n",
    "X_train = X_train.reshape(X_train.shape[0], 28, 28, 1)\n",
    "X_test = X_test.reshape(X_test.shape[0], 28, 28, 1)\n",
    "\n",
    "X_train = X_train.astype('float32') / 255;\n",
    "X_test = X_test.astype('float32') / 255;\n",
    "\n",
    "# create pair generator\n",
    "pairgen = PairGen(X_train, y_train, X_test, y_test)\n",
    "ds_train = pairgen.ds_train\n",
    "ds_valid = pairgen.ds_valid\n",
    "ds_test = pairgen.ds_test"
   ]
  },
  {
   "cell_type": "code",
   "execution_count": 3,
   "id": "62879a26-fa4c-4292-87e0-8794d41cb2b2",
   "metadata": {},
   "outputs": [
    {
     "name": "stdout",
     "output_type": "stream",
     "text": [
      "(2, 256, 28, 28, 1)\n"
     ]
    }
   ],
   "source": [
    "X_test_comp_left_list = []\n",
    "X_test_comp_right_list = []\n",
    "y_test_comp_list = []\n",
    "\n",
    "for batch in ds_test.repeat().take(8):\n",
    "    for icnt in range(32):\n",
    "        X_test_comp_left_list.append(batch[0][0][icnt])\n",
    "        X_test_comp_right_list.append(batch[0][1][icnt])\n",
    "        y_test_comp_list.append(batch[1][icnt][0])\n",
    "        \n",
    "X_test_comp_left = tf.convert_to_tensor(np.array(X_test_comp_left_list))\n",
    "X_test_comp_right = tf.convert_to_tensor(np.array(X_test_comp_right_list))\n",
    "y_test_comp = tf.convert_to_tensor(np.array(y_test_comp_list))\n",
    "\n",
    "X_test = np.array([X_test_comp_left, X_test_comp_right])\n",
    "\n",
    "print(np.shape(X_test))"
   ]
  },
  {
   "cell_type": "code",
   "execution_count": null,
   "id": "da557431-bdee-462d-8e21-d4a3c207495f",
   "metadata": {},
   "outputs": [],
   "source": [
    "import os\n",
    "rootDir = \"./models\"\n",
    "dataDirList = os.listdir(rootDir)\n",
    "for dataDirName in dataDirList:\n",
    "    if dataDirName.lower() != datasetStr.lower(): continue\n",
    "    dirList = os.listdir(rootDir + \"/\" + dataDirName)\n",
    "    for dirName in dirList:\n",
    "        tf.keras.backend.clear_session()\n",
    "\n",
    "        modelname = rootDir + \"/\" + dataDirName + \"/\" + dirName + \"/whole.tfmodel\"\n",
    "        print(modelname)\n",
    "        model = tf.keras.models.load_model(modelname)\n",
    "\n",
    "        y_pred_test = np.squeeze(model.predict(X_test))\n",
    "\n",
    "        pred_pos = np.size(np.where(y_pred_test > 0.5))\n",
    "        pred_neg = np.size(np.where(y_pred_test <= 0.5))\n",
    "        pred_total = np.size(y_pred_test)\n",
    "\n",
    "        truth_pos = np.size(np.where(y_test_comp > 0.5))\n",
    "        truth_neg = np.size(np.where(y_test_comp <= 0.5))\n",
    "        truth_total = np.size(y_test_comp)\n",
    "\n",
    "        predStr = str(pred_pos) + \"_\" + str(pred_neg) + \"_\" + str(pred_total)\n",
    "        truthStr = str(truth_pos) + \"_\" + str(truth_neg) + \"_\" + str(truth_total)\n",
    "\n",
    "        predminmax = str(np.min(y_pred_test)) + \"_\" + str(np.mean(y_pred_test)) + \"_\" + str(np.max(y_pred_test))\n",
    "        truthminmax = str(np.min(y_test_comp)) + \"_\" + str(np.mean(y_test_comp)) + \"_\" + str(np.max(y_test_comp))\n",
    "\n",
    "        file = open(rootDir + \"/\" + dataDirName + \"/\" + dirName + \"/pred_pos_neg_total_\" + predStr + \".tag\", \"w\")\n",
    "        file.close()\n",
    "\n",
    "        file = open(rootDir + \"/\" + dataDirName + \"/\" + dirName + \"/truth_pos_neg_total_\" + truthStr + \".tag\", \"w\")\n",
    "        file.close()\n",
    "\n",
    "        file = open(rootDir + \"/\" + dataDirName + \"/\" + dirName + \"/pred_min_mean_max_\" + predminmax + \".tag\", \"w\")\n",
    "        file.close()\n",
    "\n",
    "        file = open(rootDir + \"/\" + dataDirName + \"/\" + dirName + \"/truth_min_mean_max_\" + truthminmax + \".tag\", \"w\")\n",
    "        file.close()"
   ]
  }
 ],
 "metadata": {
  "kernelspec": {
   "display_name": "Python 3 (ipykernel)",
   "language": "python",
   "name": "python3"
  },
  "language_info": {
   "codemirror_mode": {
    "name": "ipython",
    "version": 3
   },
   "file_extension": ".py",
   "mimetype": "text/x-python",
   "name": "python",
   "nbconvert_exporter": "python",
   "pygments_lexer": "ipython3",
   "version": "3.9.9"
  }
 },
 "nbformat": 4,
 "nbformat_minor": 5
}
